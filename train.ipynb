{
 "cells": [
  {
   "cell_type": "code",
   "execution_count": 1,
   "metadata": {},
   "outputs": [
    {
     "name": "stderr",
     "output_type": "stream",
     "text": [
      "None of PyTorch, TensorFlow >= 2.0, or Flax have been found. Models won't be available and only tokenizers, configuration and file/data utilities can be used.\n"
     ]
    }
   ],
   "source": [
    "import pandas as pd\n",
    "import seaborn as sns\n",
    "import matplotlib.pyplot as plt\n",
    "import tqdm\n",
    "from bpe_tokenizer import BPETokenizer\n",
    "from transformers import PreTrainedTokenizerFast\n",
    "from tfidf_vectorizer import CustomTfidfVectorizer\n",
    "from ensemble import EnsembleClassifier\n",
    "from sklearn.model_selection import train_test_split\n",
    "from sklearn.metrics import confusion_matrix, accuracy_score"
   ]
  },
  {
   "cell_type": "code",
   "execution_count": 2,
   "metadata": {},
   "outputs": [
    {
     "name": "stdout",
     "output_type": "stream",
     "text": [
      "transformers version: 4.36.2\n"
     ]
    }
   ],
   "source": [
    "import transformers\n",
    "print(\"transformers version:\", transformers.__version__)"
   ]
  },
  {
   "cell_type": "code",
   "execution_count": 3,
   "metadata": {},
   "outputs": [],
   "source": [
    "df = pd.read_csv('/Users/mahdiislam/Higher Studies/MAIA Study/Semester 1/Software Engineering/Project/Artificial_text_detection/Dataset/train_v2_drcat_02.csv')\n",
    "train_ex = pd.read_csv('/Users/mahdiislam/Higher Studies/MAIA Study/Semester 1/Software Engineering/Project/Artificial_text_detection/Dataset/train_essays.csv')"
   ]
  },
  {
   "cell_type": "code",
   "execution_count": 5,
   "metadata": {},
   "outputs": [
    {
     "name": "stdout",
     "output_type": "stream",
     "text": [
      "\n",
      "\n",
      "\n"
     ]
    }
   ],
   "source": [
    "X_train, X_test, y_train, y_test = train_test_split(df['text'], df['label'], test_size = 0.2, random_state=202)\n",
    "bpe = BPETokenizer(30522).train(train_ex)\n",
    "seq_length = 15000\n",
    "tokenizer = bpe.get_fast_tokenizer(seq_length)\n"
   ]
  },
  {
   "cell_type": "code",
   "execution_count": 6,
   "metadata": {},
   "outputs": [
    {
     "name": "stderr",
     "output_type": "stream",
     "text": [
      "Token indices sequence length is longer than the specified maximum sequence length for this model (19032 > 15000). Running this sequence through the model will result in indexing errors\n"
     ]
    }
   ],
   "source": [
    "tokenized_texts_test = []\n",
    "\n",
    "for text in X_test.tolist():\n",
    "    tokenized_texts_test.append(tokenizer.tokenize(text))\n",
    "\n",
    "tokenized_texts_train = []\n",
    "\n",
    "for text in X_train.tolist():\n",
    "    tokenized_texts_train.append(tokenizer.tokenize(text))\n",
    "\n",
    "tokenized_texts_train_ex = []    \n",
    "for text in train_ex['text'].tolist():\n",
    "    tokenized_texts_train_ex.append(tokenizer.tokenize(text))"
   ]
  },
  {
   "cell_type": "code",
   "execution_count": 7,
   "metadata": {},
   "outputs": [],
   "source": [
    "tfidf_vectorizer = CustomTfidfVectorizer()\n",
    "tfidf_vectorizer.fit(tokenized_texts_train_ex)\n",
    "tf_train = tfidf_vectorizer.fit_transform(tokenized_texts_train)\n",
    "tf_test = tfidf_vectorizer.transform(tokenized_texts_test)"
   ]
  },
  {
   "cell_type": "code",
   "execution_count": 1,
   "metadata": {},
   "outputs": [
    {
     "ename": "NameError",
     "evalue": "name 'EnsembleClassifier' is not defined",
     "output_type": "error",
     "traceback": [
      "\u001b[0;31m---------------------------------------------------------------------------\u001b[0m",
      "\u001b[0;31mNameError\u001b[0m                                 Traceback (most recent call last)",
      "Cell \u001b[0;32mIn[1], line 2\u001b[0m\n\u001b[1;32m      1\u001b[0m \u001b[38;5;66;03m# Instantiate the EnsembleClassifier\u001b[39;00m\n\u001b[0;32m----> 2\u001b[0m ensemble_classifier \u001b[38;5;241m=\u001b[39m \u001b[43mEnsembleClassifier\u001b[49m()\n\u001b[1;32m      4\u001b[0m \u001b[38;5;66;03m# # Fit the model\u001b[39;00m\n\u001b[1;32m      5\u001b[0m \u001b[38;5;66;03m# ensemble_classifier.fit(tf_train, y_train)\u001b[39;00m\n\u001b[1;32m      6\u001b[0m \n\u001b[0;32m   (...)\u001b[0m\n\u001b[1;32m     13\u001b[0m \u001b[38;5;66;03m# sns.heatmap(cm, annot=True, xticklabels=labels, yticklabels=labels)\u001b[39;00m\n\u001b[1;32m     14\u001b[0m \u001b[38;5;66;03m# plt.show()\u001b[39;00m\n",
      "\u001b[0;31mNameError\u001b[0m: name 'EnsembleClassifier' is not defined"
     ]
    }
   ],
   "source": [
    "# Instantiate the EnsembleClassifier\n",
    "ensemble_classifier = EnsembleClassifier()\n",
    "\n",
    "# Fit the model\n",
    "ensemble_classifier.fit(tf_train, y_train)\n",
    "\n",
    "# Make predictions\n",
    "predictions = ensemble_classifier.predict(tf_test)\n",
    "\n",
    "cm = confusion_matrix(y_test, predictions)\n",
    "accuracy = accuracy_score(y_test, predictions)\n",
    "labels = ('Not artificially generated', 'Artificially Generated')\n",
    "sns.heatmap(cm, annot=True, xticklabels=labels, yticklabels=labels)\n",
    "plt.show()"
   ]
  },
  {
   "cell_type": "code",
   "execution_count": null,
   "metadata": {},
   "outputs": [],
   "source": []
  }
 ],
 "metadata": {
  "kernelspec": {
   "display_name": "streamlit_test",
   "language": "python",
   "name": "python3"
  },
  "language_info": {
   "codemirror_mode": {
    "name": "ipython",
    "version": 3
   },
   "file_extension": ".py",
   "mimetype": "text/x-python",
   "name": "python",
   "nbconvert_exporter": "python",
   "pygments_lexer": "ipython3",
   "version": "3.10.13"
  }
 },
 "nbformat": 4,
 "nbformat_minor": 2
}
